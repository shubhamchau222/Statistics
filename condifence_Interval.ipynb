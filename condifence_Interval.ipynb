{
 "cells": [
  {
   "cell_type": "markdown",
   "metadata": {},
   "source": [
    "# Viz tools: \n",
    "condifence interval: https://campusx-official-confidence-interval-viz-app-kwg6wq.streamlit.app/\n",
    "\n",
    "ZIdstribution: https://campusx-official-z-distribution-conf-confidence-interval-bx6u60.streamlit.app/\n",
    "\n",
    "t_dist: https://campusx-official-normal-distribution-vs-t-distributi-app-28si1q.streamlit.app/\n",
    "\n",
    "code: https://colab.research.google.com/drive/1Dorc5oX43Uh8CbA71KVd4IwfrC6XMeby?usp=sharing\n",
    "\n",
    "mterial: https://www.cuemath.com/data/critical-value/"
   ]
  },
  {
   "cell_type": "code",
   "execution_count": 1,
   "metadata": {},
   "outputs": [],
   "source": [
    "import scipy.stats as stats\n",
    "import numpy as np\n",
    "import pandas as pd\n",
    "import seaborn as sns\n",
    "import matplotlib.pyplot as plt"
   ]
  },
  {
   "cell_type": "code",
   "execution_count": null,
   "metadata": {},
   "outputs": [],
   "source": []
  },
  {
   "cell_type": "markdown",
   "metadata": {},
   "source": [
    "# Confidence Interval:\n"
   ]
  },
  {
   "cell_type": "markdown",
   "metadata": {},
   "source": [
    "## 1) Let's find the population parameter using Confidence interval technique? \n",
    "\n",
    "    - Here the Distribution is not normal, hence we're using t.interval\n",
    "    \n",
    "    stats.t.interval(confidence_level, len(data) - 1, loc=mean, scale=std_err): This function calculates the confidence interval for the sample mean. We use the t-distribution (for small sample sizes or unknown population variance) and provide the sample mean, standard error, and degrees of freedom (n - 1)."
   ]
  },
  {
   "cell_type": "code",
   "execution_count": 8,
   "metadata": {},
   "outputs": [
    {
     "name": "stdout",
     "output_type": "stream",
     "text": [
      "The 95.0% confidence interval is: (26.991665516005746, 30.30833448399425)\n"
     ]
    },
    {
     "data": {
      "text/plain": [
       "ShapiroResult(statistic=0.9837267439515505, pvalue=0.9727368565349437)"
      ]
     },
     "execution_count": 8,
     "metadata": {},
     "output_type": "execute_result"
    },
    {
     "data": {
      "image/png": "[encoded data removed]",
      "text/plain": [
       "<Figure size 640x480 with 1 Axes>"
      ]
     },
     "metadata": {},
     "output_type": "display_data"
    }
   ],
   "source": [
    "import numpy as np\n",
    "import scipy.stats as stats\n",
    "\n",
    "## Population std dev is not known\n",
    "\n",
    "# Example data: sample of 20 values\n",
    "data = [22, 29, 34, 30, 28, 27, 24, 31, 35, 33, 29, 25, 32, 28, 26, 31, 30, 27, 23, 29]\n",
    "\n",
    "\n",
    "# Calculate the sample mean and standard error\n",
    "mean = np.mean(data)\n",
    "std_err = stats.sem(data)  # standard error of the mean\n",
    "\n",
    "# Define the confidence level (95%)\n",
    "confidence_level = 0.95\n",
    "\n",
    "# Calculate the confidence interval using the t-distribution\n",
    "confidence_interval = stats.t.interval(\n",
    "    confidence_level,            # Confidence level (e.g., 0.95 for 95%)\n",
    "    len(data) - 1,               # Degrees of freedom (n - 1)\n",
    "    loc=mean,                    # Sample mean\n",
    "    scale=std_err                # Standard error\n",
    ")\n",
    "\n",
    "print(f\"The {confidence_level*100}% confidence interval is: {confidence_interval}\")\n",
    "sns.histplot(data, kde=True, color='red')\n",
    "# check the normality\n",
    "stats.shapiro(data)"
   ]
  },
  {
   "cell_type": "code",
   "execution_count": 10,
   "metadata": {},
   "outputs": [
    {
     "data": {
      "text/plain": [
       "99.05"
      ]
     },
     "execution_count": 10,
     "metadata": {},
     "output_type": "execute_result"
    }
   ],
   "source": [
    "100-95/100\n"
   ]
  },
  {
   "cell_type": "markdown",
   "metadata": {},
   "source": [
    "https://byjus.com/maths/t-test-table/"
   ]
  },
  {
   "cell_type": "code",
   "execution_count": 11,
   "metadata": {},
   "outputs": [
    {
     "name": "stdout",
     "output_type": "stream",
     "text": [
      "The t-critical value for α/2 = 0.025 and 29 degrees of freedom is: 2.045229642132703\n"
     ]
    }
   ],
   "source": [
    "## How to get the t_alpha/2 value at degree of freedom 95\n",
    "# Degrees of freedom\n",
    "df = 29\n",
    "\n",
    "# Significance level for two-tailed test (α = 0.05, so α/2 = 0.025)\n",
    "alpha = (100-95)/100\n",
    "alpha_half = alpha / 2\n",
    "\n",
    "# t-critical value\n",
    "t_critical = stats.t.ppf(1 - alpha_half, df)\n",
    "\n",
    "print(f\"The t-critical value for α/2 = 0.025 and 29 degrees of freedom is: {t_critical}\")\n"
   ]
  },
  {
   "cell_type": "code",
   "execution_count": null,
   "metadata": {},
   "outputs": [],
   "source": []
  }
 ],
 "metadata": {
  "kernelspec": {
   "display_name": "torch_trans",
   "language": "python",
   "name": "python3"
  },
  "language_info": {
   "codemirror_mode": {
    "name": "ipython",
    "version": 3
   },
   "file_extension": ".py",
   "mimetype": "text/x-python",
   "name": "python",
   "nbconvert_exporter": "python",
   "pygments_lexer": "ipython3",
   "version": "3.9.21"
  }
 },
 "nbformat": 4,
 "nbformat_minor": 2
}
