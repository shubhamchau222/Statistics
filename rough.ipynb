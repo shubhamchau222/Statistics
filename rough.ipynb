{
 "cells": [
  {
   "cell_type": "code",
   "execution_count": 1,
   "metadata": {},
   "outputs": [],
   "source": [
    "import pandas as pd\n",
    "import numpy as np"
   ]
  },
  {
   "cell_type": "code",
   "execution_count": 4,
   "metadata": {},
   "outputs": [
    {
     "data": {
      "text/html": [
       "<div>\n",
       "<style scoped>\n",
       "    .dataframe tbody tr th:only-of-type {\n",
       "        vertical-align: middle;\n",
       "    }\n",
       "\n",
       "    .dataframe tbody tr th {\n",
       "        vertical-align: top;\n",
       "    }\n",
       "\n",
       "    .dataframe thead th {\n",
       "        text-align: right;\n",
       "    }\n",
       "</style>\n",
       "<table border=\"1\" class=\"dataframe\">\n",
       "  <thead>\n",
       "    <tr style=\"text-align: right;\">\n",
       "      <th></th>\n",
       "      <th>Age Group</th>\n",
       "      <th>Product</th>\n",
       "      <th>Count</th>\n",
       "    </tr>\n",
       "  </thead>\n",
       "  <tbody>\n",
       "    <tr>\n",
       "      <th>0</th>\n",
       "      <td>Young</td>\n",
       "      <td>Product A</td>\n",
       "      <td>40</td>\n",
       "    </tr>\n",
       "    <tr>\n",
       "      <th>1</th>\n",
       "      <td>Young</td>\n",
       "      <td>Product B</td>\n",
       "      <td>60</td>\n",
       "    </tr>\n",
       "    <tr>\n",
       "      <th>2</th>\n",
       "      <td>Old</td>\n",
       "      <td>Product A</td>\n",
       "      <td>50</td>\n",
       "    </tr>\n",
       "    <tr>\n",
       "      <th>3</th>\n",
       "      <td>Old</td>\n",
       "      <td>Product B</td>\n",
       "      <td>50</td>\n",
       "    </tr>\n",
       "  </tbody>\n",
       "</table>\n",
       "</div>"
      ],
      "text/plain": [
       "  Age Group    Product  Count\n",
       "0     Young  Product A     40\n",
       "1     Young  Product B     60\n",
       "2       Old  Product A     50\n",
       "3       Old  Product B     50"
      ]
     },
     "execution_count": 4,
     "metadata": {},
     "output_type": "execute_result"
    }
   ],
   "source": [
    "import pandas as pd\n",
    "\n",
    "# Sample data for product preferences by age group\n",
    "data = {\n",
    "    'Age Group': ['Young', 'Young', 'Old', 'Old'],\n",
    "    'Product': ['Product A', 'Product B', 'Product A', 'Product B'],\n",
    "    'Count': [40, 60, 50, 50]  # Number of customers in each group\n",
    "}\n",
    "df = pd.DataFrame(data)\n",
    "df"
   ]
  },
  {
   "cell_type": "code",
   "execution_count": 14,
   "metadata": {},
   "outputs": [
    {
     "data": {
      "text/html": [
       "<div>\n",
       "<style scoped>\n",
       "    .dataframe tbody tr th:only-of-type {\n",
       "        vertical-align: middle;\n",
       "    }\n",
       "\n",
       "    .dataframe tbody tr th {\n",
       "        vertical-align: top;\n",
       "    }\n",
       "\n",
       "    .dataframe thead tr th {\n",
       "        text-align: left;\n",
       "    }\n",
       "\n",
       "    .dataframe thead tr:last-of-type th {\n",
       "        text-align: right;\n",
       "    }\n",
       "</style>\n",
       "<table border=\"1\" class=\"dataframe\">\n",
       "  <thead>\n",
       "    <tr>\n",
       "      <th></th>\n",
       "      <th colspan=\"2\" halign=\"left\">sum</th>\n",
       "      <th colspan=\"2\" halign=\"left\">count</th>\n",
       "      <th colspan=\"2\" halign=\"left\">mean</th>\n",
       "      <th colspan=\"2\" halign=\"left\">max</th>\n",
       "    </tr>\n",
       "    <tr>\n",
       "      <th>Product</th>\n",
       "      <th>Product A</th>\n",
       "      <th>Product B</th>\n",
       "      <th>Product A</th>\n",
       "      <th>Product B</th>\n",
       "      <th>Product A</th>\n",
       "      <th>Product B</th>\n",
       "      <th>Product A</th>\n",
       "      <th>Product B</th>\n",
       "    </tr>\n",
       "    <tr>\n",
       "      <th>Age Group</th>\n",
       "      <th></th>\n",
       "      <th></th>\n",
       "      <th></th>\n",
       "      <th></th>\n",
       "      <th></th>\n",
       "      <th></th>\n",
       "      <th></th>\n",
       "      <th></th>\n",
       "    </tr>\n",
       "  </thead>\n",
       "  <tbody>\n",
       "    <tr>\n",
       "      <th>Old</th>\n",
       "      <td>50</td>\n",
       "      <td>50</td>\n",
       "      <td>1</td>\n",
       "      <td>1</td>\n",
       "      <td>50</td>\n",
       "      <td>50</td>\n",
       "      <td>50</td>\n",
       "      <td>50</td>\n",
       "    </tr>\n",
       "    <tr>\n",
       "      <th>Young</th>\n",
       "      <td>40</td>\n",
       "      <td>60</td>\n",
       "      <td>1</td>\n",
       "      <td>1</td>\n",
       "      <td>40</td>\n",
       "      <td>60</td>\n",
       "      <td>40</td>\n",
       "      <td>60</td>\n",
       "    </tr>\n",
       "  </tbody>\n",
       "</table>\n",
       "</div>"
      ],
      "text/plain": [
       "                sum               count                mean            \\\n",
       "Product   Product A Product B Product A Product B Product A Product B   \n",
       "Age Group                                                               \n",
       "Old              50        50         1         1        50        50   \n",
       "Young            40        60         1         1        40        60   \n",
       "\n",
       "                max            \n",
       "Product   Product A Product B  \n",
       "Age Group                      \n",
       "Old              50        50  \n",
       "Young            40        60  "
      ]
     },
     "execution_count": 14,
     "metadata": {},
     "output_type": "execute_result"
    }
   ],
   "source": [
    "# contigency table\n",
    "\n",
    "pd.pivot_table(data=df, \n",
    "               index=\"Age Group\",\n",
    "               columns=\"Product\",\n",
    "               values=\"Count\",\n",
    "               aggfunc=[\"sum\", 'count','std', 'mean', 'max'])"
   ]
  },
  {
   "cell_type": "code",
   "execution_count": 16,
   "metadata": {},
   "outputs": [
    {
     "data": {
      "text/html": [
       "<div>\n",
       "<style scoped>\n",
       "    .dataframe tbody tr th:only-of-type {\n",
       "        vertical-align: middle;\n",
       "    }\n",
       "\n",
       "    .dataframe tbody tr th {\n",
       "        vertical-align: top;\n",
       "    }\n",
       "\n",
       "    .dataframe thead th {\n",
       "        text-align: right;\n",
       "    }\n",
       "</style>\n",
       "<table border=\"1\" class=\"dataframe\">\n",
       "  <thead>\n",
       "    <tr style=\"text-align: right;\">\n",
       "      <th></th>\n",
       "      <th>Age Group</th>\n",
       "      <th>Product</th>\n",
       "      <th>Count</th>\n",
       "    </tr>\n",
       "  </thead>\n",
       "  <tbody>\n",
       "    <tr>\n",
       "      <th>0</th>\n",
       "      <td>Young</td>\n",
       "      <td>Product A</td>\n",
       "      <td>85</td>\n",
       "    </tr>\n",
       "    <tr>\n",
       "      <th>1</th>\n",
       "      <td>Young</td>\n",
       "      <td>Product B</td>\n",
       "      <td>75</td>\n",
       "    </tr>\n",
       "    <tr>\n",
       "      <th>2</th>\n",
       "      <td>Young</td>\n",
       "      <td>Product C</td>\n",
       "      <td>50</td>\n",
       "    </tr>\n",
       "    <tr>\n",
       "      <th>3</th>\n",
       "      <td>Young</td>\n",
       "      <td>Product D</td>\n",
       "      <td>30</td>\n",
       "    </tr>\n",
       "    <tr>\n",
       "      <th>4</th>\n",
       "      <td>Young</td>\n",
       "      <td>Product E</td>\n",
       "      <td>40</td>\n",
       "    </tr>\n",
       "    <tr>\n",
       "      <th>5</th>\n",
       "      <td>Young</td>\n",
       "      <td>Product F</td>\n",
       "      <td>20</td>\n",
       "    </tr>\n",
       "    <tr>\n",
       "      <th>6</th>\n",
       "      <td>Old</td>\n",
       "      <td>Product A</td>\n",
       "      <td>70</td>\n",
       "    </tr>\n",
       "    <tr>\n",
       "      <th>7</th>\n",
       "      <td>Old</td>\n",
       "      <td>Product B</td>\n",
       "      <td>60</td>\n",
       "    </tr>\n",
       "    <tr>\n",
       "      <th>8</th>\n",
       "      <td>Old</td>\n",
       "      <td>Product C</td>\n",
       "      <td>45</td>\n",
       "    </tr>\n",
       "    <tr>\n",
       "      <th>9</th>\n",
       "      <td>Old</td>\n",
       "      <td>Product D</td>\n",
       "      <td>35</td>\n",
       "    </tr>\n",
       "    <tr>\n",
       "      <th>10</th>\n",
       "      <td>Old</td>\n",
       "      <td>Product E</td>\n",
       "      <td>50</td>\n",
       "    </tr>\n",
       "    <tr>\n",
       "      <th>11</th>\n",
       "      <td>Old</td>\n",
       "      <td>Product F</td>\n",
       "      <td>40</td>\n",
       "    </tr>\n",
       "    <tr>\n",
       "      <th>12</th>\n",
       "      <td>Middle-aged</td>\n",
       "      <td>Product A</td>\n",
       "      <td>60</td>\n",
       "    </tr>\n",
       "    <tr>\n",
       "      <th>13</th>\n",
       "      <td>Middle-aged</td>\n",
       "      <td>Product B</td>\n",
       "      <td>50</td>\n",
       "    </tr>\n",
       "    <tr>\n",
       "      <th>14</th>\n",
       "      <td>Middle-aged</td>\n",
       "      <td>Product C</td>\n",
       "      <td>70</td>\n",
       "    </tr>\n",
       "    <tr>\n",
       "      <th>15</th>\n",
       "      <td>Middle-aged</td>\n",
       "      <td>Product D</td>\n",
       "      <td>55</td>\n",
       "    </tr>\n",
       "    <tr>\n",
       "      <th>16</th>\n",
       "      <td>Middle-aged</td>\n",
       "      <td>Product E</td>\n",
       "      <td>45</td>\n",
       "    </tr>\n",
       "    <tr>\n",
       "      <th>17</th>\n",
       "      <td>Middle-aged</td>\n",
       "      <td>Product F</td>\n",
       "      <td>65</td>\n",
       "    </tr>\n",
       "    <tr>\n",
       "      <th>18</th>\n",
       "      <td>Senior</td>\n",
       "      <td>Product A</td>\n",
       "      <td>40</td>\n",
       "    </tr>\n",
       "    <tr>\n",
       "      <th>19</th>\n",
       "      <td>Senior</td>\n",
       "      <td>Product B</td>\n",
       "      <td>55</td>\n",
       "    </tr>\n",
       "    <tr>\n",
       "      <th>20</th>\n",
       "      <td>Senior</td>\n",
       "      <td>Product C</td>\n",
       "      <td>60</td>\n",
       "    </tr>\n",
       "    <tr>\n",
       "      <th>21</th>\n",
       "      <td>Senior</td>\n",
       "      <td>Product D</td>\n",
       "      <td>45</td>\n",
       "    </tr>\n",
       "    <tr>\n",
       "      <th>22</th>\n",
       "      <td>Senior</td>\n",
       "      <td>Product E</td>\n",
       "      <td>50</td>\n",
       "    </tr>\n",
       "    <tr>\n",
       "      <th>23</th>\n",
       "      <td>Senior</td>\n",
       "      <td>Product F</td>\n",
       "      <td>40</td>\n",
       "    </tr>\n",
       "    <tr>\n",
       "      <th>24</th>\n",
       "      <td>Retired</td>\n",
       "      <td>Product A</td>\n",
       "      <td>30</td>\n",
       "    </tr>\n",
       "    <tr>\n",
       "      <th>25</th>\n",
       "      <td>Retired</td>\n",
       "      <td>Product B</td>\n",
       "      <td>45</td>\n",
       "    </tr>\n",
       "    <tr>\n",
       "      <th>26</th>\n",
       "      <td>Retired</td>\n",
       "      <td>Product C</td>\n",
       "      <td>50</td>\n",
       "    </tr>\n",
       "    <tr>\n",
       "      <th>27</th>\n",
       "      <td>Retired</td>\n",
       "      <td>Product D</td>\n",
       "      <td>40</td>\n",
       "    </tr>\n",
       "    <tr>\n",
       "      <th>28</th>\n",
       "      <td>Retired</td>\n",
       "      <td>Product E</td>\n",
       "      <td>35</td>\n",
       "    </tr>\n",
       "    <tr>\n",
       "      <th>29</th>\n",
       "      <td>Retired</td>\n",
       "      <td>Product F</td>\n",
       "      <td>50</td>\n",
       "    </tr>\n",
       "  </tbody>\n",
       "</table>\n",
       "</div>"
      ],
      "text/plain": [
       "      Age Group    Product  Count\n",
       "0         Young  Product A     85\n",
       "1         Young  Product B     75\n",
       "2         Young  Product C     50\n",
       "3         Young  Product D     30\n",
       "4         Young  Product E     40\n",
       "5         Young  Product F     20\n",
       "6           Old  Product A     70\n",
       "7           Old  Product B     60\n",
       "8           Old  Product C     45\n",
       "9           Old  Product D     35\n",
       "10          Old  Product E     50\n",
       "11          Old  Product F     40\n",
       "12  Middle-aged  Product A     60\n",
       "13  Middle-aged  Product B     50\n",
       "14  Middle-aged  Product C     70\n",
       "15  Middle-aged  Product D     55\n",
       "16  Middle-aged  Product E     45\n",
       "17  Middle-aged  Product F     65\n",
       "18       Senior  Product A     40\n",
       "19       Senior  Product B     55\n",
       "20       Senior  Product C     60\n",
       "21       Senior  Product D     45\n",
       "22       Senior  Product E     50\n",
       "23       Senior  Product F     40\n",
       "24      Retired  Product A     30\n",
       "25      Retired  Product B     45\n",
       "26      Retired  Product C     50\n",
       "27      Retired  Product D     40\n",
       "28      Retired  Product E     35\n",
       "29      Retired  Product F     50"
      ]
     },
     "execution_count": 16,
     "metadata": {},
     "output_type": "execute_result"
    }
   ],
   "source": [
    "data = {\n",
    "    'Age Group': ['Young', 'Young', 'Young', 'Young', 'Young', 'Young',\n",
    "                  'Old', 'Old', 'Old', 'Old', 'Old', 'Old',\n",
    "                  'Middle-aged', 'Middle-aged', 'Middle-aged', 'Middle-aged', 'Middle-aged', 'Middle-aged',\n",
    "                  'Senior', 'Senior', 'Senior', 'Senior', 'Senior', 'Senior',\n",
    "                  'Retired', 'Retired', 'Retired', 'Retired', 'Retired', 'Retired'],\n",
    "    'Product': ['Product A', 'Product B', 'Product C', 'Product D', 'Product E', 'Product F',\n",
    "                'Product A', 'Product B', 'Product C', 'Product D', 'Product E', 'Product F',\n",
    "                'Product A', 'Product B', 'Product C', 'Product D', 'Product E', 'Product F',\n",
    "                'Product A', 'Product B', 'Product C', 'Product D', 'Product E', 'Product F',\n",
    "                'Product A', 'Product B', 'Product C', 'Product D', 'Product E', 'Product F'],\n",
    "    'Count': [85, 75, 50, 30, 40, 20,  # Young\n",
    "              70, 60, 45, 35, 50, 40,  # Old\n",
    "              60, 50, 70, 55, 45, 65,  # Middle-aged\n",
    "              40, 55, 60, 45, 50, 40,  # Senior\n",
    "              30, 45, 50, 40, 35, 50]  # Retired\n",
    "}\n",
    "\n",
    "df= pd.DataFrame(data)\n",
    "df"
   ]
  },
  {
   "cell_type": "code",
   "execution_count": 17,
   "metadata": {},
   "outputs": [
    {
     "data": {
      "text/plain": [
       "Index(['Age Group', 'Product', 'Count'], dtype='object')"
      ]
     },
     "execution_count": 17,
     "metadata": {},
     "output_type": "execute_result"
    }
   ],
   "source": [
    "df.columns"
   ]
  },
  {
   "cell_type": "code",
   "execution_count": 26,
   "metadata": {},
   "outputs": [
    {
     "data": {
      "text/html": [
       "<div>\n",
       "<style scoped>\n",
       "    .dataframe tbody tr th:only-of-type {\n",
       "        vertical-align: middle;\n",
       "    }\n",
       "\n",
       "    .dataframe tbody tr th {\n",
       "        vertical-align: top;\n",
       "    }\n",
       "\n",
       "    .dataframe thead th {\n",
       "        text-align: right;\n",
       "    }\n",
       "</style>\n",
       "<table border=\"1\" class=\"dataframe\">\n",
       "  <thead>\n",
       "    <tr style=\"text-align: right;\">\n",
       "      <th>Product</th>\n",
       "      <th>Product A</th>\n",
       "      <th>Product B</th>\n",
       "      <th>Product C</th>\n",
       "      <th>Product D</th>\n",
       "      <th>Product E</th>\n",
       "      <th>Product F</th>\n",
       "    </tr>\n",
       "    <tr>\n",
       "      <th>Age Group</th>\n",
       "      <th></th>\n",
       "      <th></th>\n",
       "      <th></th>\n",
       "      <th></th>\n",
       "      <th></th>\n",
       "      <th></th>\n",
       "    </tr>\n",
       "  </thead>\n",
       "  <tbody>\n",
       "    <tr>\n",
       "      <th>Middle-aged</th>\n",
       "      <td>60</td>\n",
       "      <td>50</td>\n",
       "      <td>70</td>\n",
       "      <td>55</td>\n",
       "      <td>45</td>\n",
       "      <td>65</td>\n",
       "    </tr>\n",
       "    <tr>\n",
       "      <th>Old</th>\n",
       "      <td>70</td>\n",
       "      <td>60</td>\n",
       "      <td>45</td>\n",
       "      <td>35</td>\n",
       "      <td>50</td>\n",
       "      <td>40</td>\n",
       "    </tr>\n",
       "    <tr>\n",
       "      <th>Retired</th>\n",
       "      <td>30</td>\n",
       "      <td>45</td>\n",
       "      <td>50</td>\n",
       "      <td>40</td>\n",
       "      <td>35</td>\n",
       "      <td>50</td>\n",
       "    </tr>\n",
       "    <tr>\n",
       "      <th>Senior</th>\n",
       "      <td>40</td>\n",
       "      <td>55</td>\n",
       "      <td>60</td>\n",
       "      <td>45</td>\n",
       "      <td>50</td>\n",
       "      <td>40</td>\n",
       "    </tr>\n",
       "    <tr>\n",
       "      <th>Young</th>\n",
       "      <td>85</td>\n",
       "      <td>75</td>\n",
       "      <td>50</td>\n",
       "      <td>30</td>\n",
       "      <td>40</td>\n",
       "      <td>20</td>\n",
       "    </tr>\n",
       "  </tbody>\n",
       "</table>\n",
       "</div>"
      ],
      "text/plain": [
       "Product      Product A  Product B  Product C  Product D  Product E  Product F\n",
       "Age Group                                                                    \n",
       "Middle-aged         60         50         70         55         45         65\n",
       "Old                 70         60         45         35         50         40\n",
       "Retired             30         45         50         40         35         50\n",
       "Senior              40         55         60         45         50         40\n",
       "Young               85         75         50         30         40         20"
      ]
     },
     "execution_count": 26,
     "metadata": {},
     "output_type": "execute_result"
    }
   ],
   "source": [
    "# Create a contingency table to show the total count of customers who prefer each product across all age groups.\n",
    "cont = pd.pivot_table(data=df,\n",
    "               index=\"Age Group\",\n",
    "               columns=\"Product\",\n",
    "               values=\"Count\",\n",
    "               aggfunc='sum')\n",
    "\n",
    "cont"
   ]
  },
  {
   "cell_type": "markdown",
   "metadata": {},
   "source": [
    "# Find the total count of customers for each age group"
   ]
  },
  {
   "cell_type": "code",
   "execution_count": 22,
   "metadata": {},
   "outputs": [
    {
     "data": {
      "text/html": [
       "<div>\n",
       "<style scoped>\n",
       "    .dataframe tbody tr th:only-of-type {\n",
       "        vertical-align: middle;\n",
       "    }\n",
       "\n",
       "    .dataframe tbody tr th {\n",
       "        vertical-align: top;\n",
       "    }\n",
       "\n",
       "    .dataframe thead th {\n",
       "        text-align: right;\n",
       "    }\n",
       "</style>\n",
       "<table border=\"1\" class=\"dataframe\">\n",
       "  <thead>\n",
       "    <tr style=\"text-align: right;\">\n",
       "      <th></th>\n",
       "      <th>Count</th>\n",
       "    </tr>\n",
       "    <tr>\n",
       "      <th>Age Group</th>\n",
       "      <th></th>\n",
       "    </tr>\n",
       "  </thead>\n",
       "  <tbody>\n",
       "    <tr>\n",
       "      <th>Middle-aged</th>\n",
       "      <td>345</td>\n",
       "    </tr>\n",
       "    <tr>\n",
       "      <th>Old</th>\n",
       "      <td>300</td>\n",
       "    </tr>\n",
       "    <tr>\n",
       "      <th>Retired</th>\n",
       "      <td>250</td>\n",
       "    </tr>\n",
       "    <tr>\n",
       "      <th>Senior</th>\n",
       "      <td>290</td>\n",
       "    </tr>\n",
       "    <tr>\n",
       "      <th>Young</th>\n",
       "      <td>300</td>\n",
       "    </tr>\n",
       "  </tbody>\n",
       "</table>\n",
       "</div>"
      ],
      "text/plain": [
       "             Count\n",
       "Age Group         \n",
       "Middle-aged    345\n",
       "Old            300\n",
       "Retired        250\n",
       "Senior         290\n",
       "Young          300"
      ]
     },
     "execution_count": 22,
     "metadata": {},
     "output_type": "execute_result"
    }
   ],
   "source": [
    "# Find the total count of customers for each age group\n",
    "pd.pivot_table(data=df,\n",
    "               index=\"Age Group\",\n",
    "               values=\"Count\",\n",
    "               aggfunc='sum')\n"
   ]
  },
  {
   "cell_type": "code",
   "execution_count": 25,
   "metadata": {},
   "outputs": [
    {
     "data": {
      "text/plain": [
       "Age Group\n",
       "Middle-aged    345\n",
       "Old            300\n",
       "Retired        250\n",
       "Senior         290\n",
       "Young          300\n",
       "Name: Count, dtype: int64"
      ]
     },
     "execution_count": 25,
     "metadata": {},
     "output_type": "execute_result"
    }
   ],
   "source": [
    "df.groupby(\"Age Group\")['Count'].sum()"
   ]
  },
  {
   "cell_type": "markdown",
   "metadata": {},
   "source": [
    "#3. Which product is the most popular among the 'Middle-aged' age group?"
   ]
  },
  {
   "cell_type": "code",
   "execution_count": 34,
   "metadata": {},
   "outputs": [
    {
     "data": {
      "text/plain": [
       "'Product C'"
      ]
     },
     "execution_count": 34,
     "metadata": {},
     "output_type": "execute_result"
    }
   ],
   "source": [
    "cont = pd.pivot_table(data=df,\n",
    "               index=\"Age Group\",\n",
    "               columns=\"Product\",\n",
    "               values=\"Count\",\n",
    "               aggfunc='sum')\n",
    "cont\n",
    "\n",
    "cont.loc['Middle-aged'].idxmax()"
   ]
  },
  {
   "cell_type": "markdown",
   "metadata": {},
   "source": [
    "#4. What is the distribution of product preferences across the 'Retired' age group?"
   ]
  },
  {
   "cell_type": "code",
   "execution_count": 38,
   "metadata": {},
   "outputs": [
    {
     "data": {
      "text/plain": [
       "Product\n",
       "Product A    30\n",
       "Product B    45\n",
       "Product C    50\n",
       "Product D    40\n",
       "Product E    35\n",
       "Product F    50\n",
       "Name: Retired, dtype: int64"
      ]
     },
     "execution_count": 38,
     "metadata": {},
     "output_type": "execute_result"
    },
    {
     "data": {
      "image/png": "[encoded data removed]",
      "text/plain": [
       "<Figure size 640x480 with 1 Axes>"
      ]
     },
     "metadata": {},
     "output_type": "display_data"
    }
   ],
   "source": [
    "cont.loc['Retired'].plot(kind=\"bar\")\n",
    "cont.loc['Retired']"
   ]
  },
  {
   "cell_type": "code",
   "execution_count": 42,
   "metadata": {},
   "outputs": [
    {
     "data": {
      "text/plain": [
       "Product\n",
       "Product A    12.0\n",
       "Product B    18.0\n",
       "Product C    20.0\n",
       "Product D    16.0\n",
       "Product E    14.0\n",
       "Product F    20.0\n",
       "Name: Retired, dtype: float64"
      ]
     },
     "execution_count": 42,
     "metadata": {},
     "output_type": "execute_result"
    }
   ],
   "source": [
    "#percentage dist\n",
    "(cont.loc['Retired']/ cont.loc['Retired'].sum())*100"
   ]
  },
  {
   "cell_type": "markdown",
   "metadata": {},
   "source": [
    "#5. Find the count of customers who preferred 'Product A' across all age groups."
   ]
  },
  {
   "cell_type": "code",
   "execution_count": 47,
   "metadata": {},
   "outputs": [
    {
     "name": "stdout",
     "output_type": "stream",
     "text": [
      "Product      Product A  Product B  Product C  Product D  Product E  Product F\n",
      "Age Group                                                                    \n",
      "Middle-aged         60         50         70         55         45         65\n",
      "Old                 70         60         45         35         50         40\n",
      "Retired             30         45         50         40         35         50\n",
      "Senior              40         55         60         45         50         40\n",
      "Young               85         75         50         30         40         20\n",
      "\n",
      "\n",
      "285\n"
     ]
    }
   ],
   "source": [
    "print(cont)\n",
    "print()\n",
    "print()\n",
    "print(cont['Product A'].sum())"
   ]
  },
  {
   "cell_type": "markdown",
   "metadata": {},
   "source": [
    "#6. Calculate the average count of customers per age group for each product."
   ]
  },
  {
   "cell_type": "code",
   "execution_count": 49,
   "metadata": {},
   "outputs": [
    {
     "data": {
      "text/plain": [
       "Product\n",
       "Product A    57.0\n",
       "Product B    57.0\n",
       "Product C    55.0\n",
       "Product D    41.0\n",
       "Product E    44.0\n",
       "Product F    43.0\n",
       "dtype: float64"
      ]
     },
     "execution_count": 49,
     "metadata": {},
     "output_type": "execute_result"
    }
   ],
   "source": [
    "cont.mean(axis=0)"
   ]
  },
  {
   "cell_type": "markdown",
   "metadata": {},
   "source": [
    "#7. What percentage of the total customers in the dataset preferred 'Product E'?"
   ]
  },
  {
   "cell_type": "code",
   "execution_count": 56,
   "metadata": {},
   "outputs": [
    {
     "name": "stdout",
     "output_type": "stream",
     "text": [
      "Product      Product A  Product B  Product C  Product D  Product E  Product F\n",
      "Age Group                                                                    \n",
      "Middle-aged         60         50         70         55         45         65\n",
      "Old                 70         60         45         35         50         40\n",
      "Retired             30         45         50         40         35         50\n",
      "Senior              40         55         60         45         50         40\n",
      "Young               85         75         50         30         40         20\n",
      "14.814814814814813\n"
     ]
    }
   ],
   "source": [
    "print(cont)\n",
    "total_customers = cont.sum().sum()\n",
    "prod_e_cust_sum = cont['Product E'].sum()\n",
    "\n",
    "# percentage of cust prefered prod e\n",
    "print ((prod_e_cust_sum/total_customers)*100)"
   ]
  },
  {
   "cell_type": "markdown",
   "metadata": {},
   "source": [
    "#8. Create a pivot table that shows the percentage distribution of product preferences for each age group."
   ]
  },
  {
   "cell_type": "code",
   "execution_count": 63,
   "metadata": {},
   "outputs": [
    {
     "name": "stdout",
     "output_type": "stream",
     "text": [
      "Product      Product A  Product B  Product C  Product D  Product E  Product F\n",
      "Age Group                                                                    \n",
      "Middle-aged  17.391304  14.492754  20.289855  15.942029  13.043478  18.840580\n",
      "Old          23.333333  20.000000  15.000000  11.666667  16.666667  13.333333\n",
      "Retired      12.000000  18.000000  20.000000  16.000000  14.000000  20.000000\n",
      "Senior       13.793103  18.965517  20.689655  15.517241  17.241379  13.793103\n",
      "Young        28.333333  25.000000  16.666667  10.000000  13.333333   6.666667\n"
     ]
    }
   ],
   "source": [
    "percentage_distribution = cont.div(cont.sum(axis=1), axis=0) * 100\n",
    "print(percentage_distribution)"
   ]
  },
  {
   "cell_type": "markdown",
   "metadata": {},
   "source": [
    "#10. Which product has the most balanced customer distribution across all age groups (i.e., the product with the smallest variation in preferences among the age groups)?"
   ]
  },
  {
   "cell_type": "code",
   "execution_count": 62,
   "metadata": {},
   "outputs": [
    {
     "name": "stdout",
     "output_type": "stream",
     "text": [
      "Product\n",
      "Product A    495.0\n",
      "Product B    132.5\n",
      "Product C    100.0\n",
      "Product D     92.5\n",
      "Product E     42.5\n",
      "Product F    270.0\n",
      "dtype: float64\n",
      "\n",
      "Answer :  Product E\n"
     ]
    }
   ],
   "source": [
    "product_variance = cont.var(axis=0)\n",
    "print(product_variance)\n",
    "most_balanced_product = product_variance.idxmin()\n",
    "print( \"\\nAnswer : \", most_balanced_product)"
   ]
  },
  {
   "cell_type": "markdown",
   "metadata": {},
   "source": [
    "# Real-world Scenario Questions:\n",
    "#16. Do customers in the 'Senior' age group show a preference for certain products more than others?"
   ]
  },
  {
   "cell_type": "code",
   "execution_count": 64,
   "metadata": {},
   "outputs": [
    {
     "data": {
      "text/html": [
       "<div>\n",
       "<style scoped>\n",
       "    .dataframe tbody tr th:only-of-type {\n",
       "        vertical-align: middle;\n",
       "    }\n",
       "\n",
       "    .dataframe tbody tr th {\n",
       "        vertical-align: top;\n",
       "    }\n",
       "\n",
       "    .dataframe thead th {\n",
       "        text-align: right;\n",
       "    }\n",
       "</style>\n",
       "<table border=\"1\" class=\"dataframe\">\n",
       "  <thead>\n",
       "    <tr style=\"text-align: right;\">\n",
       "      <th>Product</th>\n",
       "      <th>Product A</th>\n",
       "      <th>Product B</th>\n",
       "      <th>Product C</th>\n",
       "      <th>Product D</th>\n",
       "      <th>Product E</th>\n",
       "      <th>Product F</th>\n",
       "    </tr>\n",
       "    <tr>\n",
       "      <th>Age Group</th>\n",
       "      <th></th>\n",
       "      <th></th>\n",
       "      <th></th>\n",
       "      <th></th>\n",
       "      <th></th>\n",
       "      <th></th>\n",
       "    </tr>\n",
       "  </thead>\n",
       "  <tbody>\n",
       "    <tr>\n",
       "      <th>Middle-aged</th>\n",
       "      <td>60</td>\n",
       "      <td>50</td>\n",
       "      <td>70</td>\n",
       "      <td>55</td>\n",
       "      <td>45</td>\n",
       "      <td>65</td>\n",
       "    </tr>\n",
       "    <tr>\n",
       "      <th>Old</th>\n",
       "      <td>70</td>\n",
       "      <td>60</td>\n",
       "      <td>45</td>\n",
       "      <td>35</td>\n",
       "      <td>50</td>\n",
       "      <td>40</td>\n",
       "    </tr>\n",
       "    <tr>\n",
       "      <th>Retired</th>\n",
       "      <td>30</td>\n",
       "      <td>45</td>\n",
       "      <td>50</td>\n",
       "      <td>40</td>\n",
       "      <td>35</td>\n",
       "      <td>50</td>\n",
       "    </tr>\n",
       "    <tr>\n",
       "      <th>Senior</th>\n",
       "      <td>40</td>\n",
       "      <td>55</td>\n",
       "      <td>60</td>\n",
       "      <td>45</td>\n",
       "      <td>50</td>\n",
       "      <td>40</td>\n",
       "    </tr>\n",
       "    <tr>\n",
       "      <th>Young</th>\n",
       "      <td>85</td>\n",
       "      <td>75</td>\n",
       "      <td>50</td>\n",
       "      <td>30</td>\n",
       "      <td>40</td>\n",
       "      <td>20</td>\n",
       "    </tr>\n",
       "  </tbody>\n",
       "</table>\n",
       "</div>"
      ],
      "text/plain": [
       "Product      Product A  Product B  Product C  Product D  Product E  Product F\n",
       "Age Group                                                                    \n",
       "Middle-aged         60         50         70         55         45         65\n",
       "Old                 70         60         45         35         50         40\n",
       "Retired             30         45         50         40         35         50\n",
       "Senior              40         55         60         45         50         40\n",
       "Young               85         75         50         30         40         20"
      ]
     },
     "execution_count": 64,
     "metadata": {},
     "output_type": "execute_result"
    }
   ],
   "source": [
    "cont"
   ]
  },
  {
   "cell_type": "code",
   "execution_count": 66,
   "metadata": {},
   "outputs": [
    {
     "data": {
      "text/plain": [
       "60"
      ]
     },
     "execution_count": 66,
     "metadata": {},
     "output_type": "execute_result"
    }
   ],
   "source": [
    "cont.loc['Senior'].max()"
   ]
  },
  {
   "cell_type": "markdown",
   "metadata": {},
   "source": [
    "#17. Which product seems to be the most consistently preferred across all age groups?"
   ]
  },
  {
   "cell_type": "code",
   "execution_count": 71,
   "metadata": {},
   "outputs": [
    {
     "data": {
      "text/plain": [
       "Product\n",
       "Product E     42.5\n",
       "Product D     92.5\n",
       "Product C    100.0\n",
       "Product B    132.5\n",
       "Product F    270.0\n",
       "Product A    495.0\n",
       "dtype: float64"
      ]
     },
     "execution_count": 71,
     "metadata": {},
     "output_type": "execute_result"
    }
   ],
   "source": [
    "cont.var(axis=0).sort_values() # col level\n",
    "#most consitent is : product E"
   ]
  },
  {
   "cell_type": "markdown",
   "metadata": {},
   "source": [
    "#18. What insights can you gather about the preferences of 'Young' customers compared to 'Old' customers?"
   ]
  },
  {
   "cell_type": "code",
   "execution_count": 73,
   "metadata": {},
   "outputs": [
    {
     "data": {
      "text/html": [
       "<div>\n",
       "<style scoped>\n",
       "    .dataframe tbody tr th:only-of-type {\n",
       "        vertical-align: middle;\n",
       "    }\n",
       "\n",
       "    .dataframe tbody tr th {\n",
       "        vertical-align: top;\n",
       "    }\n",
       "\n",
       "    .dataframe thead th {\n",
       "        text-align: right;\n",
       "    }\n",
       "</style>\n",
       "<table border=\"1\" class=\"dataframe\">\n",
       "  <thead>\n",
       "    <tr style=\"text-align: right;\">\n",
       "      <th>Product</th>\n",
       "      <th>Product A</th>\n",
       "      <th>Product B</th>\n",
       "      <th>Product C</th>\n",
       "      <th>Product D</th>\n",
       "      <th>Product E</th>\n",
       "      <th>Product F</th>\n",
       "    </tr>\n",
       "    <tr>\n",
       "      <th>Age Group</th>\n",
       "      <th></th>\n",
       "      <th></th>\n",
       "      <th></th>\n",
       "      <th></th>\n",
       "      <th></th>\n",
       "      <th></th>\n",
       "    </tr>\n",
       "  </thead>\n",
       "  <tbody>\n",
       "    <tr>\n",
       "      <th>Young</th>\n",
       "      <td>85</td>\n",
       "      <td>75</td>\n",
       "      <td>50</td>\n",
       "      <td>30</td>\n",
       "      <td>40</td>\n",
       "      <td>20</td>\n",
       "    </tr>\n",
       "    <tr>\n",
       "      <th>Old</th>\n",
       "      <td>70</td>\n",
       "      <td>60</td>\n",
       "      <td>45</td>\n",
       "      <td>35</td>\n",
       "      <td>50</td>\n",
       "      <td>40</td>\n",
       "    </tr>\n",
       "  </tbody>\n",
       "</table>\n",
       "</div>"
      ],
      "text/plain": [
       "Product    Product A  Product B  Product C  Product D  Product E  Product F\n",
       "Age Group                                                                  \n",
       "Young             85         75         50         30         40         20\n",
       "Old               70         60         45         35         50         40"
      ]
     },
     "execution_count": 73,
     "metadata": {},
     "output_type": "execute_result"
    }
   ],
   "source": [
    "cont.loc[['Young', 'Old']]"
   ]
  },
  {
   "cell_type": "code",
   "execution_count": 82,
   "metadata": {},
   "outputs": [
    {
     "data": {
      "text/html": [
       "<div>\n",
       "<style scoped>\n",
       "    .dataframe tbody tr th:only-of-type {\n",
       "        vertical-align: middle;\n",
       "    }\n",
       "\n",
       "    .dataframe tbody tr th {\n",
       "        vertical-align: top;\n",
       "    }\n",
       "\n",
       "    .dataframe thead th {\n",
       "        text-align: right;\n",
       "    }\n",
       "</style>\n",
       "<table border=\"1\" class=\"dataframe\">\n",
       "  <thead>\n",
       "    <tr style=\"text-align: right;\">\n",
       "      <th>Product</th>\n",
       "      <th>Product A</th>\n",
       "      <th>Product B</th>\n",
       "      <th>Product C</th>\n",
       "      <th>Product D</th>\n",
       "      <th>Product E</th>\n",
       "      <th>Product F</th>\n",
       "    </tr>\n",
       "    <tr>\n",
       "      <th>Age Group</th>\n",
       "      <th></th>\n",
       "      <th></th>\n",
       "      <th></th>\n",
       "      <th></th>\n",
       "      <th></th>\n",
       "      <th></th>\n",
       "    </tr>\n",
       "  </thead>\n",
       "  <tbody>\n",
       "    <tr>\n",
       "      <th>Young</th>\n",
       "      <td>NaN</td>\n",
       "      <td>NaN</td>\n",
       "      <td>NaN</td>\n",
       "      <td>NaN</td>\n",
       "      <td>NaN</td>\n",
       "      <td>NaN</td>\n",
       "    </tr>\n",
       "    <tr>\n",
       "      <th>Old</th>\n",
       "      <td>-15.0</td>\n",
       "      <td>-15.0</td>\n",
       "      <td>-5.0</td>\n",
       "      <td>5.0</td>\n",
       "      <td>10.0</td>\n",
       "      <td>20.0</td>\n",
       "    </tr>\n",
       "  </tbody>\n",
       "</table>\n",
       "</div>"
      ],
      "text/plain": [
       "Product    Product A  Product B  Product C  Product D  Product E  Product F\n",
       "Age Group                                                                  \n",
       "Young            NaN        NaN        NaN        NaN        NaN        NaN\n",
       "Old            -15.0      -15.0       -5.0        5.0       10.0       20.0"
      ]
     },
     "execution_count": 82,
     "metadata": {},
     "output_type": "execute_result"
    }
   ],
   "source": [
    "cont.loc[['Young', 'Old']].diff(axis=0) \n",
    "# Young preffred mostly: Product A\tProduct B compared to o;d"
   ]
  },
  {
   "cell_type": "markdown",
   "metadata": {},
   "source": [
    "#If the company wants to increase the preference for Product C in the 'Retired' age group, what marketing strategy would you suggest?\n",
    "\n",
    "\n",
    " targeted marketing campaign focusing on the Retired age group should emphasize the benefits of 'Product C', particularly around comfort or ease of use, as 'Product C' already has a high preference in that group."
   ]
  },
  {
   "cell_type": "markdown",
   "metadata": {},
   "source": [
    "# .div() function in Pandas is used to divide the elements of a DataFrame by another DataFrame, Series, or scalar value. In the context of creating a percentage distribution of product preferences across different age groups, .div() is used to divide the counts of each product by the total count of customers in each respective age group.\n",
    "\n",
    "Here’s how .div() works in this specific case:"
   ]
  },
  {
   "cell_type": "code",
   "execution_count": 78,
   "metadata": {},
   "outputs": [
    {
     "name": "stdout",
     "output_type": "stream",
     "text": [
      "total_per_age_group\n",
      "Age Group\n",
      "Middle-aged    345\n",
      "Old            300\n",
      "Retired        250\n",
      "Senior         290\n",
      "Young          300\n",
      "dtype: int64\n",
      "\n",
      "cont\n",
      "Product      Product A  Product B  Product C  Product D  Product E  Product F\n",
      "Age Group                                                                    \n",
      "Middle-aged         60         50         70         55         45         65\n",
      "Old                 70         60         45         35         50         40\n",
      "Retired             30         45         50         40         35         50\n",
      "Senior              40         55         60         45         50         40\n",
      "Young               85         75         50         30         40         20\n",
      "\n",
      " Product      Product A  Product B  Product C  Product D  Product E  Product F\n",
      "Age Group                                                                    \n",
      "Middle-aged  17.391304  14.492754  20.289855  15.942029  13.043478  18.840580\n",
      "Old          23.333333  20.000000  15.000000  11.666667  16.666667  13.333333\n",
      "Retired      12.000000  18.000000  20.000000  16.000000  14.000000  20.000000\n",
      "Senior       13.793103  18.965517  20.689655  15.517241  17.241379  13.793103\n",
      "Young        28.333333  25.000000  16.666667  10.000000  13.333333   6.666667\n"
     ]
    }
   ],
   "source": [
    "# Calculate the total customers per age group\n",
    "total_per_age_group = cont.sum(axis=1)\n",
    "print(\"total_per_age_group\")\n",
    "print(total_per_age_group)\n",
    "\n",
    "print(\"\\ncont\")\n",
    "print(cont)\n",
    "\n",
    "# Divide each product count by the total count for each age group\n",
    "percentage_distribution = cont.div(total_per_age_group, axis=0) * 100\n",
    "\n",
    "# Display the result\n",
    "print(\"\\n\",percentage_distribution)\n"
   ]
  },
  {
   "cell_type": "code",
   "execution_count": 79,
   "metadata": {},
   "outputs": [
    {
     "data": {
      "text/plain": [
       "0.17391304347826086"
      ]
     },
     "execution_count": 79,
     "metadata": {},
     "output_type": "execute_result"
    }
   ],
   "source": [
    "60/345"
   ]
  },
  {
   "cell_type": "code",
   "execution_count": 80,
   "metadata": {},
   "outputs": [
    {
     "name": "stdout",
     "output_type": "stream",
     "text": [
      "Sorted Product Preferences for the Senior Age Group:\n",
      "Product\n",
      "Product C    60\n",
      "Product B    55\n",
      "Product E    50\n",
      "Product D    45\n",
      "Product A    40\n",
      "Product F    40\n",
      "Name: Senior, dtype: int64\n",
      "\n",
      "Percentage Distribution of Product Preferences for the Senior Age Group:\n",
      "Product\n",
      "Product A    13.793103\n",
      "Product B    18.965517\n",
      "Product C    20.689655\n",
      "Product D    15.517241\n",
      "Product E    17.241379\n",
      "Product F    13.793103\n",
      "Name: Senior, dtype: float64\n"
     ]
    }
   ],
   "source": [
    "# Extract the 'Senior' age group data from the contingency table\n",
    "senior_preferences = cont.loc['Senior']\n",
    "\n",
    "# Sort the preferences to see which products are most preferred\n",
    "sorted_senior_preferences = senior_preferences.sort_values(ascending=False)\n",
    "\n",
    "# Display the sorted preferences\n",
    "print(\"Sorted Product Preferences for the Senior Age Group:\")\n",
    "print(sorted_senior_preferences)\n",
    "\n",
    "# Optionally, calculate the percentage distribution of product preferences in the Senior group\n",
    "senior_percentage = (senior_preferences / senior_preferences.sum()) * 100\n",
    "print(\"\\nPercentage Distribution of Product Preferences for the Senior Age Group:\")\n",
    "print(senior_percentage)\n"
   ]
  },
  {
   "cell_type": "code",
   "execution_count": 81,
   "metadata": {},
   "outputs": [
    {
     "name": "stdout",
     "output_type": "stream",
     "text": [
      "Difference in Product Preferences between Young and Old Age Groups:\n",
      "Product\n",
      "Product A    15\n",
      "Product B    15\n",
      "Product C     5\n",
      "Product D    -5\n",
      "Product E   -10\n",
      "Product F   -20\n",
      "dtype: int64\n",
      "\n",
      "Percentage Distribution for Young Age Group:\n",
      "Product\n",
      "Product A    28.333333\n",
      "Product B    25.000000\n",
      "Product C    16.666667\n",
      "Product D    10.000000\n",
      "Product E    13.333333\n",
      "Product F     6.666667\n",
      "Name: Young, dtype: float64\n",
      "\n",
      "Percentage Distribution for Old Age Group:\n",
      "Product\n",
      "Product A    23.333333\n",
      "Product B    20.000000\n",
      "Product C    15.000000\n",
      "Product D    11.666667\n",
      "Product E    16.666667\n",
      "Product F    13.333333\n",
      "Name: Old, dtype: float64\n"
     ]
    }
   ],
   "source": [
    "# Extract the preferences for 'Young' and 'Old' age groups from the contingency table\n",
    "young_preferences = cont.loc['Young']\n",
    "old_preferences = cont.loc['Old']\n",
    "\n",
    "# Calculate the difference in preferences between Young and Old age groups\n",
    "preference_difference = young_preferences - old_preferences\n",
    "\n",
    "# Sort the difference to see the largest differences\n",
    "sorted_difference = preference_difference.sort_values(ascending=False)\n",
    "\n",
    "# Display the sorted difference\n",
    "print(\"Difference in Product Preferences between Young and Old Age Groups:\")\n",
    "print(sorted_difference)\n",
    "\n",
    "# Optionally, calculate the percentage distribution for both groups\n",
    "young_percentage = (young_preferences / young_preferences.sum()) * 100\n",
    "old_percentage = (old_preferences / old_preferences.sum()) * 100\n",
    "\n",
    "# Display the percentage distributions for comparison\n",
    "print(\"\\nPercentage Distribution for Young Age Group:\")\n",
    "print(young_percentage)\n",
    "\n",
    "print(\"\\nPercentage Distribution for Old Age Group:\")\n",
    "print(old_percentage)\n"
   ]
  },
  {
   "cell_type": "markdown",
   "metadata": {},
   "source": [
    "Young customers prefer products like Product A and Product B significantly more than the Old customers.\n",
    "\n",
    "The Old customers show a stronger preference for Product E and Product F."
   ]
  },
  {
   "cell_type": "code",
   "execution_count": null,
   "metadata": {},
   "outputs": [],
   "source": []
  }
 ],
 "metadata": {
  "kernelspec": {
   "display_name": "torch_trans",
   "language": "python",
   "name": "python3"
  },
  "language_info": {
   "codemirror_mode": {
    "name": "ipython",
    "version": 3
   },
   "file_extension": ".py",
   "mimetype": "text/x-python",
   "name": "python",
   "nbconvert_exporter": "python",
   "pygments_lexer": "ipython3",
   "version": "3.9.21"
  }
 },
 "nbformat": 4,
 "nbformat_minor": 2
}
